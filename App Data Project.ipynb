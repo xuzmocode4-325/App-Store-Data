{
 "cells": [
  {
   "attachments": {},
   "cell_type": "markdown",
   "metadata": {},
   "source": [
    "# Mobile App Data Analysis\n",
    "\n",
    "This notebook aims to analyse a dataset from the Apple iOS app store containing information about roughly 7200 mobile applications. The aim of this project is to determine what kinds of apps attract the most users. It is intended that insights gleamed from this data will inform the company strategy for development of free mobile apps with the aim of improving user in-app ad engagement in order to maximise revenues."
   ]
  },
  {
   "attachments": {},
   "cell_type": "markdown",
   "metadata": {},
   "source": [
    "## Data Extraction\n",
    "\n",
    "The steps in this section are geared towards extracting the data to be analysed into this python notebook. "
   ]
  },
  {
   "cell_type": "code",
   "execution_count": 3,
   "metadata": {},
   "outputs": [],
   "source": [
    "from csv import reader\n",
    "open_apple_file = open('AppleStore.csv', encoding=\"utf8\")\n",
    "open_android_file = open('googleplaystore.csv', encoding=\"utf8\")\n",
    "\n",
    "read_apple = reader(open_apple_file)\n",
    "read_android = reader(open_android_file)\n"
   ]
  },
  {
   "attachments": {},
   "cell_type": "markdown",
   "metadata": {},
   "source": [
    "In the above code cell the `open()` funtion is called on both the _Android_ and _Apple iOS_ datasets. The datasets are then extracted via the `reader()` function."
   ]
  },
  {
   "cell_type": "code",
   "execution_count": 4,
   "metadata": {},
   "outputs": [],
   "source": [
    "apple_data = list(read_apple)\n",
    "android_data = list(read_android)\n"
   ]
  },
  {
   "attachments": {},
   "cell_type": "markdown",
   "metadata": {},
   "source": [
    "In the above code cell the `list()` function is used to convert both the _Android_ and _Apple iOS_ datasets into list format. "
   ]
  },
  {
   "cell_type": "code",
   "execution_count": 5,
   "metadata": {},
   "outputs": [],
   "source": [
    "apple_header = apple_data[0]\n",
    "android_header = android_data[0]\n"
   ]
  },
  {
   "attachments": {},
   "cell_type": "markdown",
   "metadata": {},
   "source": [
    "The above code cell stores the `headers` of each dataset in a variable for easily accessible future reference. Below, the header is removed from the datasets for ease of use in functions."
   ]
  },
  {
   "cell_type": "code",
   "execution_count": 6,
   "metadata": {},
   "outputs": [],
   "source": [
    "apple_data = apple_data[1:]\n",
    "android_data = android_data[1:]\n"
   ]
  },
  {
   "attachments": {},
   "cell_type": "markdown",
   "metadata": {},
   "source": [
    "Below a function named `explore_data()` is defined. The purpose of the function is to take in a `dataset` and slice it according to the provided `start` and `end` parameters. It then `prints` a new line for each row or list of information within the dataset. A `rows_and_columns` parameter with its default parameter set to `False` is included which, when set to true, prints the number of rows and columns of the entire dataset. "
   ]
  },
  {
   "cell_type": "code",
   "execution_count": 7,
   "metadata": {},
   "outputs": [
    {
     "name": "stdout",
     "output_type": "stream",
     "text": [
      "['284882215', 'Facebook', '389879808', 'USD', '0.0', '2974676', '212', '3.5', '3.5', '95.0', '4+', 'Social Networking', '37', '1', '29', '1']\n",
      "Number of rows: 7197\n",
      "Number of columns: 16\n",
      "\n",
      "\n",
      "['Photo Editor & Candy Camera & Grid & ScrapBook', 'ART_AND_DESIGN', '4.1', '159', '19M', '10,000+', 'Free', '0', 'Everyone', 'Art & Design', 'January 7, 2018', '1.0.0', '4.0.3 and up']\n",
      "Number of rows: 10841\n",
      "Number of columns: 13\n"
     ]
    }
   ],
   "source": [
    "def explore_data(dataset, start, end, rows_and_columns=False):\n",
    "    dataset_slice = dataset[start:end]\n",
    "    for row in dataset_slice:\n",
    "        print(row)\n",
    "\n",
    "    if rows_and_columns:\n",
    "        print('Number of rows:', len(dataset))\n",
    "        print('Number of columns:', len(dataset[0]))\n",
    "\n",
    "\n",
    "explore_data(apple_data, 0, 1, True)\n",
    "print(\"\\n\")\n",
    "explore_data(android_data, 0, 1, True)\n"
   ]
  },
  {
   "cell_type": "code",
   "execution_count": 8,
   "metadata": {},
   "outputs": [
    {
     "name": "stdout",
     "output_type": "stream",
     "text": [
      "['App', 'Category', 'Rating', 'Reviews', 'Size', 'Installs', 'Type', 'Price', 'Content Rating', 'Genres', 'Last Updated', 'Current Ver', 'Android Ver']\n",
      "['id', 'track_name', 'size_bytes', 'currency', 'price', 'rating_count_tot', 'rating_count_ver', 'user_rating', 'user_rating_ver', 'ver', 'cont_rating', 'prime_genre', 'sup_devices.num', 'ipadSc_urls.num', 'lang.num', 'vpp_lic']\n"
     ]
    }
   ],
   "source": [
    "print(android_header)\n",
    "print(apple_header)\n"
   ]
  },
  {
   "attachments": {},
   "cell_type": "markdown",
   "metadata": {},
   "source": [
    "## Data Cleaning\n",
    "\n",
    "The steps in this section are geared towards preparing the data for analysis by sorting relevant data from the non-essential data and fixing any underlying errors present in the lists. "
   ]
  },
  {
   "cell_type": "code",
   "execution_count": 9,
   "metadata": {},
   "outputs": [
    {
     "name": "stdout",
     "output_type": "stream",
     "text": [
      "{10472: (['Life Made WI-Fi Touchscreen Photo Frame', '1.9', '19', '3.0M', '1,000+', 'Free', '0', 'Everyone', '', 'February 11, 2018', '1.0.19', '4.0 and up'], 12)}\n",
      "{}\n"
     ]
    }
   ],
   "source": [
    "def check_row_len(dataset):\n",
    "    faulty_rows = {}\n",
    "    for row in dataset:\n",
    "        if len(row) != len(dataset[0]):\n",
    "            row_index = dataset.index(row)\n",
    "            faulty_rows[row_index] = (row, len(row))\n",
    "    return faulty_rows\n",
    "\n",
    "\n",
    "faulty_android_rows = check_row_len(android_data)\n",
    "faulty_apple_rows = check_row_len(apple_data)\n",
    "\n",
    "print(faulty_android_rows)\n",
    "print(faulty_apple_rows)\n"
   ]
  },
  {
   "attachments": {},
   "cell_type": "markdown",
   "metadata": {},
   "source": [
    "In the above code cell both app datasets are checked for errors. The _Apple iOS_ dataset has no issues. The _Android_ dataset has one. In the [discussion page](https://www.kaggle.com/datasets/lava18/google-play-store-apps/discussion/66015) of the _Android_ dataset one row is reported to have a missing column. The `check_row_len()` function is used to detect rows that have column errors. The function returns an dictionary named `faulty_rows` with the `row` index value as a key as well as the row itself as a list and its length as a interger in a `tuple`."
   ]
  },
  {
   "attachments": {},
   "cell_type": "markdown",
   "metadata": {},
   "source": [
    "Although, the instruction from the guided project outlines on Dataquest was to delete this row from the _Android_ app dataset, in the [discussion page](https://www.kaggle.com/datasets/lava18/google-play-store-apps/discussion/66015) for this dataset it is mentioned that the missing data falls under the `Category` column. It has also been noted that this app falls under the `Lifestyle` category. I have here opted to add the missing data by creating a new list and appending this information to the relevent index position (2) for the row using the `.append()` method. This corrected row is then used to replace the row with missing data in the original dataset."
   ]
  },
  {
   "cell_type": "code",
   "execution_count": 10,
   "metadata": {},
   "outputs": [
    {
     "name": "stdout",
     "output_type": "stream",
     "text": [
      "['Life Made WI-Fi Touchscreen Photo Frame', 'Lifestyle', '1.9', '19', '3.0M', '1,000+', 'Free', '0', 'Everyone', '', 'February 11, 2018', '1.0.19', '4.0 and up']\n",
      "{}\n"
     ]
    }
   ],
   "source": [
    "corrected_android_10472 = []\n",
    "corrected_android_10472.append(android_data[10472][0])\n",
    "corrected_android_10472.append(\"Lifestyle\")\n",
    "corrected_android_10472 += android_data[10472][1:]\n",
    "\n",
    "print(corrected_android_10472)\n",
    "\n",
    "android_data[10472] = corrected_android_10472\n",
    "\n",
    "print(check_row_len(android_data))\n"
   ]
  },
  {
   "attachments": {},
   "cell_type": "markdown",
   "metadata": {},
   "source": [
    "The code cell below checks for duplicates within either of the datasets. It stores the names of apps with multiple instances in the `duplicate_apps` list. The function has two parameters. The first parameter,  `dataset`; accepts a dataset in the form of a list of lists as an argument, the other, `names_column`; accepts an integer representing the index value of the _name_ column in the respective dataset's row.  "
   ]
  },
  {
   "cell_type": "code",
   "execution_count": 11,
   "metadata": {},
   "outputs": [
    {
     "name": "stdout",
     "output_type": "stream",
     "text": [
      "Number of Apple iOS app store dataset duplicate entries: 0\n",
      "Number of Android app store dataset duplicate entries: 1181\n"
     ]
    }
   ],
   "source": [
    "def check_duplicates(dataset, name_column):\n",
    "\n",
    "    duplicate_apps = []\n",
    "    unique_apps = []\n",
    "\n",
    "    for app in dataset:\n",
    "        name = app[name_column]\n",
    "\n",
    "        if name in unique_apps:\n",
    "            duplicate_apps.append(name)\n",
    "        else:\n",
    "            unique_apps.append(name)\n",
    "\n",
    "    return (unique_apps, duplicate_apps)\n",
    "\n",
    "\n",
    "apple_check = check_duplicates(apple_data, 0)\n",
    "android_check = check_duplicates(android_data, 0)\n",
    "\n",
    "apple_dups = apple_check[1]\n",
    "android_dups = android_check[1]\n",
    "\n",
    "print(\"Number of Apple iOS app store dataset duplicate entries:\", len(apple_dups))\n",
    "print(\"Number of Android app store dataset duplicate entries:\", len(android_dups))\n"
   ]
  },
  {
   "attachments": {},
   "cell_type": "markdown",
   "metadata": {},
   "source": [
    "As part of cleaning each dataset, duplicates are to be removed. However, entries will not be removed randomly. The entry with the highest tally in the `Reviews` column will be retained as this is the entry that is likey to be the most recent.  "
   ]
  },
  {
   "cell_type": "code",
   "execution_count": 12,
   "metadata": {},
   "outputs": [
    {
     "name": "stdout",
     "output_type": "stream",
     "text": [
      "<class 'dict'>\n"
     ]
    }
   ],
   "source": [
    "def unique_dict(dataset, name_col, reviews_col, exp):\n",
    "    reviews_max = {}\n",
    "    for entry in dataset:\n",
    "        name = entry[name_col]\n",
    "        n_reviews = float(entry[reviews_col])\n",
    "        if name in reviews_max and reviews_max[name] < n_reviews:\n",
    "            reviews_max[name] = n_reviews\n",
    "        elif name not in reviews_max:\n",
    "            reviews_max[name] = n_reviews\n",
    "\n",
    "    if len(reviews_max) == exp:\n",
    "        return reviews_max\n",
    "    else:\n",
    "        return \"Dictionary Error: Unexpected Length\"\n",
    "\n",
    "\n",
    "android_exp = len(android_data) - len(android_dups)\n",
    "\n",
    "android_dict = unique_dict(android_data, 0, 3, android_exp)\n",
    "print(type(android_dict))\n"
   ]
  },
  {
   "attachments": {},
   "cell_type": "markdown",
   "metadata": {},
   "source": [
    "In the above code cell the function `unique_dict()` returns a dictionary of unique app entries (as keys) with their highest rating / review count (as values). It accepts four parameters: the `dataset` as a list of lists, `name_col` and `review_col` as integers, which are the index values for the name and review / ratings columms respectively and `exp` which accepts the expected length of the returned dictionary as an integer. The argument for the `exp` parameter is calculated as the length of the original dataset minus the amount of duplicate entries for that particular dataset. If the dictionary length is not exactly equal to the argumennt for `exp`, `unique_dict()` returns an error message. "
   ]
  },
  {
   "cell_type": "code",
   "execution_count": 13,
   "metadata": {},
   "outputs": [
    {
     "name": "stdout",
     "output_type": "stream",
     "text": [
      "9660\n"
     ]
    }
   ],
   "source": [
    "def del_duplicates(dataset, name_col, review_col, u_dict):\n",
    "    clean_list = []\n",
    "    dump = []\n",
    "    for app in dataset:\n",
    "        name = app[name_col]\n",
    "        n_reviews = float(app[review_col])\n",
    "        max_review = u_dict[name]\n",
    "        if name not in dump and n_reviews == max_review:\n",
    "            clean_list.append(app)\n",
    "            dump.append(name)\n",
    "    return clean_list\n",
    "\n",
    "\n",
    "android_data = del_duplicates(android_data, 0, 3, android_dict)\n",
    "print(len(android_data))\n"
   ]
  },
  {
   "attachments": {},
   "cell_type": "markdown",
   "metadata": {},
   "source": [
    "The `del_duplicates()` function returns `android_clean`, a list of lists with length equivalent to `exp` meaning the dataset has been successfully cleared of duplicates. "
   ]
  },
  {
   "attachments": {},
   "cell_type": "markdown",
   "metadata": {},
   "source": [
    "Both the _Android_ and _Apple i0S_ datasets contain non-English speaker orientated applications. Since the report is being written for a company that is only targeting an English speaking audience, information from applications that target speakers of any language other than english will not be useful in providing insights for this market. The following steps are geared towards removing these apps.   "
   ]
  },
  {
   "cell_type": "code",
   "execution_count": 14,
   "metadata": {},
   "outputs": [
    {
     "name": "stdout",
     "output_type": "stream",
     "text": [
      "[['Instagram', 0], ['Docs To Go™ Free Office Suite', 2], ['Instachat 😜', 3]]\n"
     ]
    }
   ],
   "source": [
    "def check_app_lang(dataset, name_col):\n",
    "    eng_lang_apps = []\n",
    "    for app in dataset:\n",
    "        name = app[name_col]\n",
    "        char_count = 0\n",
    "\n",
    "        for char in name:\n",
    "            if ord(char) > 127:\n",
    "                char_count += 1\n",
    "\n",
    "        if char_count < 3:\n",
    "            eng_lang_apps.append(app)\n",
    "\n",
    "    return eng_lang_apps\n",
    "\n",
    "\n",
    "test_dataset = [['Instagram', 0], ['爱奇艺PPS -《欢乐颂2》电视剧热播', 1],\n",
    "                ['Docs To Go™ Free Office Suite', 2], ['Instachat 😜', 3]]\n",
    "test_output = check_app_lang(test_dataset, 0)\n",
    "\n",
    "print(test_output)\n"
   ]
  },
  {
   "attachments": {},
   "cell_type": "markdown",
   "metadata": {},
   "source": [
    "In the above code cell the function `check_app_lang()` attempts to detect potentially non-English speaker orientated apps by scanning the app name to find non-English characters in its name. \n",
    "\n",
    "It has two paramaters, one for the `dataset` and the second, `name_col` for the index value associated with the name column of the input dataset. The `check_app_lang()` function iterates over each list and stores the app `name` in a variable. Another for loop uses the `ord()` function to iterate over the `name` string to determine the ASCII code for each charater. \n",
    "\n",
    "Each character has a unique ASCII code. The ASCII codes for characters used in the English language fall primarily between 0 and 127. Any outliers are recorded, each outlier per `name` adds one (`+= 1`) to the value of a character count variable (`char_count`) which is initialized with a value of `0`. If the `char_count` value for `name` is less than three (`< 3`), the row of data for that particular app gets added to the `eng_lang_apps` list. \n",
    "\n",
    "Once all apps are iterated over, the function returns a list of lists that includes data for all the potentially English speaking audience orientated apps. "
   ]
  },
  {
   "cell_type": "code",
   "execution_count": 15,
   "metadata": {},
   "outputs": [
    {
     "name": "stdout",
     "output_type": "stream",
     "text": [
      "[['284882215', 'Facebook', '389879808', 'USD', '0.0', '2974676', '212', '3.5', '3.5', '95.0', '4+', 'Social Networking', '37', '1', '29', '1'], ['389801252', 'Instagram', '113954816', 'USD', '0.0', '2161558', '1289', '4.5', '4.0', '10.23', '12+', 'Photo & Video', '37', '0', '29', '1'], ['529479190', 'Clash of Clans', '116476928', 'USD', '0.0', '2130805', '579', '4.5', '4.5', '9.24.12', '9+', 'Games', '38', '5', '18', '1']]\n",
      "6155\n",
      "\n",
      "\n",
      "[['Photo Editor & Candy Camera & Grid & ScrapBook', 'ART_AND_DESIGN', '4.1', '159', '19M', '10,000+', 'Free', '0', 'Everyone', 'Art & Design', 'January 7, 2018', '1.0.0', '4.0.3 and up'], ['U Launcher Lite – FREE Live Cool Themes, Hide Apps', 'ART_AND_DESIGN', '4.7', '87510', '8.7M', '5,000,000+', 'Free', '0', 'Everyone', 'Art & Design', 'August 1, 2018', '1.2.4', '4.0.3 and up'], ['Sketch - Draw & Paint', 'ART_AND_DESIGN', '4.5', '215644', '25M', '50,000,000+', 'Free', '0', 'Teen', 'Art & Design', 'June 8, 2018', 'Varies with device', '4.2 and up']]\n",
      "9598\n"
     ]
    }
   ],
   "source": [
    "android_data = check_app_lang(android_data, 0)\n",
    "apple_data = check_app_lang(apple_data, 1)\n",
    "\n",
    "\n",
    "print(apple_data[:3])\n",
    "print(len(apple_data))\n",
    "print(\"\\n\")\n",
    "print(android_data[:3])\n",
    "print(len(android_data))\n"
   ]
  },
  {
   "cell_type": "code",
   "execution_count": 16,
   "metadata": {},
   "outputs": [
    {
     "name": "stdout",
     "output_type": "stream",
     "text": [
      "['id', 'track_name', 'size_bytes', 'currency', 'price', 'rating_count_tot', 'rating_count_ver', 'user_rating', 'user_rating_ver', 'ver', 'cont_rating', 'prime_genre', 'sup_devices.num', 'ipadSc_urls.num', 'lang.num', 'vpp_lic']\n",
      "[['284882215', 'Facebook', '389879808', 'USD', '0.0', '2974676', '212', '3.5', '3.5', '95.0', '4+', 'Social Networking', '37', '1', '29', '1'], ['389801252', 'Instagram', '113954816', 'USD', '0.0', '2161558', '1289', '4.5', '4.0', '10.23', '12+', 'Photo & Video', '37', '0', '29', '1'], ['529479190', 'Clash of Clans', '116476928', 'USD', '0.0', '2130805', '579', '4.5', '4.5', '9.24.12', '9+', 'Games', '38', '5', '18', '1']]\n",
      "3203\n",
      "\n",
      "\n",
      "['App', 'Category', 'Rating', 'Reviews', 'Size', 'Installs', 'Type', 'Price', 'Content Rating', 'Genres', 'Last Updated', 'Current Ver', 'Android Ver']\n",
      "[['Photo Editor & Candy Camera & Grid & ScrapBook', 'ART_AND_DESIGN', '4.1', '159', '19M', '10,000+', 'Free', '0', 'Everyone', 'Art & Design', 'January 7, 2018', '1.0.0', '4.0.3 and up'], ['U Launcher Lite – FREE Live Cool Themes, Hide Apps', 'ART_AND_DESIGN', '4.7', '87510', '8.7M', '5,000,000+', 'Free', '0', 'Everyone', 'Art & Design', 'August 1, 2018', '1.2.4', '4.0.3 and up'], ['Sketch - Draw & Paint', 'ART_AND_DESIGN', '4.5', '215644', '25M', '50,000,000+', 'Free', '0', 'Teen', 'Art & Design', 'June 8, 2018', 'Varies with device', '4.2 and up']]\n",
      "8849\n"
     ]
    }
   ],
   "source": [
    "def isolate_free(dataset, price_col):\n",
    "    free_apps = []\n",
    "    for app in dataset:\n",
    "        price = app[price_col]\n",
    "        if price == \"0\":\n",
    "            free_apps.append(app)\n",
    "        elif price == \"0.0\":\n",
    "            free_apps.append(app)\n",
    "    return free_apps\n",
    "\n",
    "\n",
    "print(apple_header)\n",
    "apple_data = isolate_free(apple_data, 4)\n",
    "print(apple_data[:3])\n",
    "print(len(apple_data))\n",
    "print(\"\\n\")\n",
    "print(android_header)\n",
    "android_data = isolate_free(android_data, 7)\n",
    "print(android_data[:3])\n",
    "print(len(android_data))\n"
   ]
  },
  {
   "cell_type": "code",
   "execution_count": 17,
   "metadata": {},
   "outputs": [],
   "source": [
    "def freq_table(dataset, index):\n",
    "    table = {}\n",
    "    for row in dataset:\n",
    "        key = row[index]\n",
    "        if key in table:\n",
    "            table[key] += 1\n",
    "        elif key not in table:\n",
    "            table[key] = 1\n",
    "    return table\n"
   ]
  },
  {
   "attachments": {},
   "cell_type": "markdown",
   "metadata": {},
   "source": [
    "The `freq_table` function returns a frequency table based on the inputs of a column as `index` integer and a `dataset` as a list of lists.  "
   ]
  },
  {
   "cell_type": "code",
   "execution_count": 18,
   "metadata": {},
   "outputs": [],
   "source": [
    "def display_table(dataset, index):\n",
    "    \n",
    "    table = freq_table(dataset, index)\n",
    "    table_display = []\n",
    "    for key in table:\n",
    "        key_val_as_tuple = (table[key], key)\n",
    "        table_display.append(key_val_as_tuple)\n",
    "\n",
    "    table_sorted = sorted(table_display, reverse = True)\n",
    "    for entry in table_sorted:\n",
    "        print(entry[1], ':', entry[0])\n",
    "    \n",
    "    "
   ]
  },
  {
   "attachments": {},
   "cell_type": "markdown",
   "metadata": {},
   "source": [
    "The `display_table` function takes in two parameters: `dataset` and `index`, where `dataset` will be a list of lists, and `index` will be an integer. It generates a frequency table using the `freq_table()` function and transforms the the frequency table into a list of tuples and sorts the list in decending order. "
   ]
  },
  {
   "cell_type": "code",
   "execution_count": 19,
   "metadata": {},
   "outputs": [
    {
     "name": "stdout",
     "output_type": "stream",
     "text": [
      "FAMILY : 1676\n",
      "GAME : 858\n",
      "TOOLS : 748\n",
      "BUSINESS : 407\n",
      "PRODUCTIVITY : 345\n",
      "LIFESTYLE : 344\n",
      "FINANCE : 328\n",
      "MEDICAL : 313\n",
      "SPORTS : 300\n",
      "PERSONALIZATION : 294\n",
      "COMMUNICATION : 286\n",
      "HEALTH_AND_FITNESS : 273\n",
      "PHOTOGRAPHY : 261\n",
      "NEWS_AND_MAGAZINES : 248\n",
      "SOCIAL : 236\n",
      "TRAVEL_AND_LOCAL : 207\n",
      "SHOPPING : 199\n",
      "BOOKS_AND_REFERENCE : 189\n",
      "DATING : 165\n",
      "VIDEO_PLAYERS : 159\n",
      "MAPS_AND_NAVIGATION : 123\n",
      "FOOD_AND_DRINK : 110\n",
      "EDUCATION : 103\n",
      "ENTERTAINMENT : 85\n",
      "LIBRARIES_AND_DEMO : 83\n",
      "AUTO_AND_VEHICLES : 82\n",
      "HOUSE_AND_HOME : 71\n",
      "WEATHER : 70\n",
      "EVENTS : 63\n",
      "PARENTING : 58\n",
      "ART_AND_DESIGN : 57\n",
      "COMICS : 54\n",
      "BEAUTY : 53\n",
      "Lifestyle : 1\n"
     ]
    }
   ],
   "source": [
    "display_table(android_data, 1)\n"
   ]
  },
  {
   "cell_type": "code",
   "execution_count": 20,
   "metadata": {},
   "outputs": [
    {
     "name": "stdout",
     "output_type": "stream",
     "text": [
      "Tools : 747\n",
      "Entertainment : 538\n",
      "Education : 474\n",
      "Business : 407\n",
      "Productivity : 345\n",
      "Lifestyle : 343\n",
      "Finance : 328\n",
      "Medical : 313\n",
      "Sports : 306\n",
      "Personalization : 294\n",
      "Communication : 286\n",
      "Action : 274\n",
      "Health & Fitness : 273\n",
      "Photography : 261\n",
      "News & Magazines : 248\n",
      "Social : 236\n",
      "Travel & Local : 206\n",
      "Shopping : 199\n",
      "Books & Reference : 189\n",
      "Simulation : 181\n",
      "Dating : 165\n",
      "Arcade : 163\n",
      "Video Players & Editors : 157\n",
      "Casual : 156\n",
      "Maps & Navigation : 123\n",
      "Food & Drink : 110\n",
      "Puzzle : 100\n",
      "Racing : 88\n",
      "Role Playing : 83\n",
      "Libraries & Demo : 83\n",
      "Auto & Vehicles : 82\n",
      "Strategy : 81\n",
      "House & Home : 71\n",
      "Weather : 70\n",
      "Events : 63\n",
      "Adventure : 59\n",
      "Comics : 53\n",
      "Beauty : 53\n",
      "Art & Design : 53\n",
      "Parenting : 44\n",
      "Card : 40\n",
      "Trivia : 37\n",
      "Casino : 37\n",
      "Educational;Education : 35\n",
      "Board : 34\n",
      "Educational : 33\n",
      "Education;Education : 30\n",
      "Word : 23\n",
      "Casual;Pretend Play : 21\n",
      "Music : 18\n",
      "Racing;Action & Adventure : 15\n",
      "Puzzle;Brain Games : 15\n",
      "Entertainment;Music & Video : 15\n",
      "Casual;Brain Games : 12\n",
      "Casual;Action & Adventure : 12\n",
      "Arcade;Action & Adventure : 11\n",
      "Action;Action & Adventure : 9\n",
      "Educational;Pretend Play : 8\n",
      "Simulation;Action & Adventure : 7\n",
      "Parenting;Education : 7\n",
      "Entertainment;Brain Games : 7\n",
      "Board;Brain Games : 7\n",
      "Parenting;Music & Video : 6\n",
      "Educational;Brain Games : 6\n",
      "Casual;Creativity : 6\n",
      "Art & Design;Creativity : 6\n",
      "Education;Pretend Play : 5\n",
      "Role Playing;Pretend Play : 4\n",
      "Education;Creativity : 4\n",
      "Role Playing;Action & Adventure : 3\n",
      "Puzzle;Action & Adventure : 3\n",
      "Entertainment;Creativity : 3\n",
      "Entertainment;Action & Adventure : 3\n",
      "Educational;Creativity : 3\n",
      "Educational;Action & Adventure : 3\n",
      "Education;Music & Video : 3\n",
      "Education;Brain Games : 3\n",
      "Education;Action & Adventure : 3\n",
      "Adventure;Action & Adventure : 3\n",
      "Video Players & Editors;Music & Video : 2\n",
      "Sports;Action & Adventure : 2\n",
      "Simulation;Pretend Play : 2\n",
      "Puzzle;Creativity : 2\n",
      "Music;Music & Video : 2\n",
      "Entertainment;Pretend Play : 2\n",
      "Casual;Education : 2\n",
      "Board;Action & Adventure : 2\n",
      "Video Players & Editors;Creativity : 1\n",
      "Trivia;Education : 1\n",
      "Travel & Local;Action & Adventure : 1\n",
      "Tools;Education : 1\n",
      "Strategy;Education : 1\n",
      "Strategy;Creativity : 1\n",
      "Strategy;Action & Adventure : 1\n",
      "Simulation;Education : 1\n",
      "Role Playing;Brain Games : 1\n",
      "Racing;Pretend Play : 1\n",
      "Puzzle;Education : 1\n",
      "Parenting;Brain Games : 1\n",
      "Music & Audio;Music & Video : 1\n",
      "Lifestyle;Pretend Play : 1\n",
      "Lifestyle;Education : 1\n",
      "Health & Fitness;Education : 1\n",
      "Health & Fitness;Action & Adventure : 1\n",
      "Entertainment;Education : 1\n",
      "Communication;Creativity : 1\n",
      "Comics;Creativity : 1\n",
      "Casual;Music & Video : 1\n",
      "Card;Action & Adventure : 1\n",
      "Books & Reference;Education : 1\n",
      "Art & Design;Pretend Play : 1\n",
      "Art & Design;Action & Adventure : 1\n",
      "Arcade;Pretend Play : 1\n",
      "Adventure;Education : 1\n",
      " : 1\n"
     ]
    }
   ],
   "source": [
    "display_table(android_data, 9)\n"
   ]
  },
  {
   "cell_type": "code",
   "execution_count": 21,
   "metadata": {},
   "outputs": [
    {
     "name": "stdout",
     "output_type": "stream",
     "text": [
      "Games : 1866\n",
      "Entertainment : 251\n",
      "Photo & Video : 160\n",
      "Education : 118\n",
      "Social Networking : 106\n",
      "Shopping : 83\n",
      "Utilities : 79\n",
      "Sports : 69\n",
      "Music : 66\n",
      "Health & Fitness : 65\n",
      "Productivity : 56\n",
      "Lifestyle : 50\n",
      "News : 43\n",
      "Travel : 40\n",
      "Finance : 35\n",
      "Weather : 28\n",
      "Food & Drink : 26\n",
      "Reference : 17\n",
      "Business : 17\n",
      "Book : 12\n",
      "Navigation : 6\n",
      "Medical : 6\n",
      "Catalogs : 4\n"
     ]
    }
   ],
   "source": [
    "apple_freq_table = freq_table(apple_data, 11)\n",
    "display_table(apple_data, 11)\n"
   ]
  },
  {
   "cell_type": "code",
   "execution_count": 22,
   "metadata": {},
   "outputs": [],
   "source": [
    "def find_popular_apps(dataset, freq_table, genre, ratings_column):\n",
    "\n",
    "    ratings_table = {}\n",
    "\n",
    "    for key in freq_table:\n",
    "\n",
    "        total = 0\n",
    "        len_genre = 0\n",
    "\n",
    "        for row in dataset:\n",
    "\n",
    "            app_genre = row[genre]\n",
    "\n",
    "            if key == app_genre:\n",
    "                len_genre += 1\n",
    "                total += float(row[ratings_column])\n",
    "\n",
    "            if len_genre > 0:\n",
    "                avg_ratings = total / len_genre\n",
    "\n",
    "            ratings_table[key] = avg_ratings\n",
    "\n",
    "    return ratings_table\n"
   ]
  },
  {
   "attachments": {},
   "cell_type": "markdown",
   "metadata": {},
   "source": [
    "The `find_popular_apps` function is designed to take in a frequency table, a `ratings` column (denoting number of ratings per app, not the actual app rating value) and a `genre` colum. The function finds the amount of apps within a particular genre in order to calculate the mean value of ratings per app in the catagory. It outputs a dictionary with the `genre` as key and `mean ratings` as value. "
   ]
  },
  {
   "cell_type": "code",
   "execution_count": 23,
   "metadata": {},
   "outputs": [
    {
     "data": {
      "text/plain": [
       "{'Social Networking': 71548.34905660378,\n",
       " 'Photo & Video': 28441.54375,\n",
       " 'Games': 22886.36709539121,\n",
       " 'Music': 57326.530303030304,\n",
       " 'Reference': 79350.4705882353,\n",
       " 'Health & Fitness': 23298.015384615384,\n",
       " 'Weather': 52279.892857142855,\n",
       " 'Utilities': 19156.493670886077,\n",
       " 'Travel': 28243.8,\n",
       " 'Shopping': 27230.734939759037,\n",
       " 'News': 21248.023255813954,\n",
       " 'Navigation': 86090.33333333333,\n",
       " 'Lifestyle': 16815.48,\n",
       " 'Entertainment': 14195.358565737051,\n",
       " 'Food & Drink': 33333.92307692308,\n",
       " 'Sports': 23008.898550724636,\n",
       " 'Book': 46384.916666666664,\n",
       " 'Finance': 32367.02857142857,\n",
       " 'Education': 7003.983050847458,\n",
       " 'Productivity': 21028.410714285714,\n",
       " 'Business': 7491.117647058823,\n",
       " 'Catalogs': 4004.0,\n",
       " 'Medical': 612.0}"
      ]
     },
     "execution_count": 23,
     "metadata": {},
     "output_type": "execute_result"
    }
   ],
   "source": [
    "find_popular_apps(apple_data, apple_freq_table, 11, 5)\n"
   ]
  },
  {
   "attachments": {},
   "cell_type": "markdown",
   "metadata": {},
   "source": [
    "In an attempt to analyse the `Android App Store Data` for popular apps, in the code cell below, a frequency table is created that shows the number of apps per category of `amount of installs`. The amounts are binned according to ranges. The range of bins goes from `0` (a bin for apps with no installs) to `1,000,000,00+` (a bin for all the apps with more than a billion installs).  "
   ]
  },
  {
   "cell_type": "code",
   "execution_count": 24,
   "metadata": {},
   "outputs": [
    {
     "name": "stdout",
     "output_type": "stream",
     "text": [
      "1,000,000+ : 1394\n",
      "100,000+ : 1021\n",
      "10,000,000+ : 935\n",
      "10,000+ : 902\n",
      "1,000+ : 744\n",
      "100+ : 613\n",
      "5,000,000+ : 604\n",
      "500,000+ : 492\n",
      "50,000+ : 422\n",
      "5,000+ : 397\n",
      "10+ : 313\n",
      "500+ : 287\n",
      "50,000,000+ : 202\n",
      "100,000,000+ : 189\n",
      "50+ : 170\n",
      "5+ : 70\n",
      "1+ : 45\n",
      "500,000,000+ : 24\n",
      "1,000,000,000+ : 20\n",
      "0+ : 4\n",
      "0 : 1\n"
     ]
    }
   ],
   "source": [
    "android_freq_table = freq_table(android_data, 5)\n",
    "display_table(android_data, 5)\n"
   ]
  },
  {
   "attachments": {},
   "cell_type": "markdown",
   "metadata": {},
   "source": [
    "Below, a `frequency table` for app `catagories` from the `Android Appstore` dataset is created.  "
   ]
  },
  {
   "cell_type": "code",
   "execution_count": 25,
   "metadata": {},
   "outputs": [],
   "source": [
    "android_cat_ft = freq_table(android_data, 1)\n"
   ]
  },
  {
   "attachments": {},
   "cell_type": "markdown",
   "metadata": {},
   "source": [
    "In the cell below the `Android App Store` frequency table for `catagories` is fed into the `popular_app_finder` funcion. It works similarly to `find_popular_apps` with the parameter for `genre` taking in the index information for the `catagories` column and the parameter for ratings taking in information for the `installs` column. The data from the installs needs cleaning as the raw data for number of installs is only catagorical at this stage. In order to find a mean value of installs, the catagorical value will be converted to a numerical `float` value after the removal of special characters and the total number of installs per `catagory` will be calculated based on it. "
   ]
  },
  {
   "cell_type": "code",
   "execution_count": 39,
   "metadata": {},
   "outputs": [],
   "source": [
    "def popular_app_finder(dataset, freq_table, category, installs):\n",
    "\n",
    "    category_table = {}\n",
    "    \n",
    "    for key in freq_table:\n",
    "\n",
    "        total = 0\n",
    "        len_cat = 0\n",
    "\n",
    "        for row in dataset:\n",
    "\n",
    "            app_category = row[category]\n",
    "\n",
    "            install_num = row[installs]\n",
    "\n",
    "            install_num = install_num.replace(\"+\", \"\")\n",
    "            install_num = install_num.replace(\",\", \"\")\n",
    "\n",
    "            if key == app_category:\n",
    "                len_cat += 1\n",
    "                total += float(install_num)\n",
    "\n",
    "            if len_cat > 0:\n",
    "                avg_installs = total / len_cat\n",
    "\n",
    "            category_table[key] = avg_installs\n",
    "\n",
    "    return category_table\n"
   ]
  },
  {
   "cell_type": "code",
   "execution_count": 40,
   "metadata": {},
   "outputs": [
    {
     "data": {
      "text/plain": [
       "{'ART_AND_DESIGN': 1986335.0877192982,\n",
       " 'AUTO_AND_VEHICLES': 647317.8170731707,\n",
       " 'BEAUTY': 513151.88679245283,\n",
       " 'BOOKS_AND_REFERENCE': 8814199.78835979,\n",
       " 'BUSINESS': 1712290.1474201474,\n",
       " 'COMICS': 832613.8888888889,\n",
       " 'COMMUNICATION': 38590581.08741259,\n",
       " 'DATING': 854028.8303030303,\n",
       " 'EDUCATION': 1833495.145631068,\n",
       " 'ENTERTAINMENT': 11640705.88235294,\n",
       " 'EVENTS': 253542.22222222222,\n",
       " 'FINANCE': 1387692.475609756,\n",
       " 'FOOD_AND_DRINK': 1924897.7363636363,\n",
       " 'HEALTH_AND_FITNESS': 4188821.9853479853,\n",
       " 'HOUSE_AND_HOME': 1360598.042253521,\n",
       " 'LIBRARIES_AND_DEMO': 638503.734939759,\n",
       " 'LIFESTYLE': 1446158.2238372094,\n",
       " 'GAME': 15544014.51048951,\n",
       " 'FAMILY': 3695641.8198090694,\n",
       " 'MEDICAL': 120550.61980830671,\n",
       " 'SOCIAL': 23253652.127118643,\n",
       " 'SHOPPING': 7036877.311557789,\n",
       " 'PHOTOGRAPHY': 17840110.40229885,\n",
       " 'SPORTS': 3650602.276666667,\n",
       " 'TRAVEL_AND_LOCAL': 13984077.710144928,\n",
       " 'TOOLS': 10830251.970588235,\n",
       " 'PERSONALIZATION': 5201482.6122448975,\n",
       " 'PRODUCTIVITY': 16787331.344927534,\n",
       " 'PARENTING': 542603.6206896552,\n",
       " 'WEATHER': 5145550.285714285,\n",
       " 'VIDEO_PLAYERS': 24727872.452830188,\n",
       " 'NEWS_AND_MAGAZINES': 9549178.467741935,\n",
       " 'MAPS_AND_NAVIGATION': 4049274.6341463416,\n",
       " 'Lifestyle': 1000.0}"
      ]
     },
     "execution_count": 40,
     "metadata": {},
     "output_type": "execute_result"
    }
   ],
   "source": [
    "popular_app_finder(android_data, android_cat_ft, 1, 5)"
   ]
  },
  {
   "attachments": {},
   "cell_type": "markdown",
   "metadata": {},
   "source": [
    "Notebook still needs analysis for Android App with highest mean installs and Apple App with highest mean ratings as well as recommendations on suggested app ideas for development. Formatting for presentation and redability is also required."
   ]
  }
 ],
 "metadata": {
  "kernelspec": {
   "display_name": "Python 3",
   "language": "python",
   "name": "python3"
  },
  "language_info": {
   "codemirror_mode": {
    "name": "ipython",
    "version": 3
   },
   "file_extension": ".py",
   "mimetype": "text/x-python",
   "name": "python",
   "nbconvert_exporter": "python",
   "pygments_lexer": "ipython3",
   "version": "3.10.8"
  },
  "orig_nbformat": 4,
  "vscode": {
   "interpreter": {
    "hash": "c261aea317cc0286b3b3261fbba9abdec21eaa57589985bb7a274bf54d6cc0a7"
   }
  }
 },
 "nbformat": 4,
 "nbformat_minor": 2
}
